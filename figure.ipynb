{
 "cells": [
  {
   "cell_type": "code",
   "execution_count": 1,
   "metadata": {},
   "outputs": [
    {
     "data": {
      "application/vnd.microsoft.datawrangler.viewer.v0+json": {
       "columns": [
        {
         "name": "Ticker",
         "rawType": "object",
         "type": "string"
        },
        {
         "name": "2025-03-28 18:48:00+00:00",
         "rawType": "float64",
         "type": "float"
        }
       ],
       "conversionMethod": "pd.DataFrame",
       "ref": "256710e8-df1f-49b9-a535-167697730c9a",
       "rows": [
        [
         "CHFEUR=X",
         "1.0470999479293823"
        ],
        [
         "CHFJPY=X",
         "170.02200317382812"
        ],
        [
         "CHFUSD=X",
         "1.1341211795806885"
        ],
        [
         "EURCHF=X",
         "0.9545400142669678"
        ],
        [
         "EURJPY=X",
         "162.302001953125"
        ],
        [
         "EURUSD=X",
         "1.0829542875289917"
        ],
        [
         "JPYCHF=X",
         "0.0058810003101825"
        ],
        [
         "JPYEUR=X",
         "0.0061596999876201"
        ],
        [
         "JPYUSD=X",
         "0.0066700461320579"
        ],
        [
         "USDCHF=X",
         "0.8817399740219116"
        ],
        [
         "USDEUR=X",
         "0.9233999848365784"
        ],
        [
         "USDJPY=X",
         "149.9239959716797"
        ]
       ],
       "shape": {
        "columns": 1,
        "rows": 12
       }
      },
      "text/html": [
       "<div>\n",
       "<style scoped>\n",
       "    .dataframe tbody tr th:only-of-type {\n",
       "        vertical-align: middle;\n",
       "    }\n",
       "\n",
       "    .dataframe tbody tr th {\n",
       "        vertical-align: top;\n",
       "    }\n",
       "\n",
       "    .dataframe thead th {\n",
       "        text-align: right;\n",
       "    }\n",
       "</style>\n",
       "<table border=\"1\" class=\"dataframe\">\n",
       "  <thead>\n",
       "    <tr style=\"text-align: right;\">\n",
       "      <th></th>\n",
       "      <th>2025-03-28 18:48:00+00:00</th>\n",
       "    </tr>\n",
       "    <tr>\n",
       "      <th>Ticker</th>\n",
       "      <th></th>\n",
       "    </tr>\n",
       "  </thead>\n",
       "  <tbody>\n",
       "    <tr>\n",
       "      <th>CHFEUR=X</th>\n",
       "      <td>1.047100</td>\n",
       "    </tr>\n",
       "    <tr>\n",
       "      <th>CHFJPY=X</th>\n",
       "      <td>170.022003</td>\n",
       "    </tr>\n",
       "    <tr>\n",
       "      <th>CHFUSD=X</th>\n",
       "      <td>1.134121</td>\n",
       "    </tr>\n",
       "    <tr>\n",
       "      <th>EURCHF=X</th>\n",
       "      <td>0.954540</td>\n",
       "    </tr>\n",
       "    <tr>\n",
       "      <th>EURJPY=X</th>\n",
       "      <td>162.302002</td>\n",
       "    </tr>\n",
       "    <tr>\n",
       "      <th>EURUSD=X</th>\n",
       "      <td>1.082954</td>\n",
       "    </tr>\n",
       "    <tr>\n",
       "      <th>JPYCHF=X</th>\n",
       "      <td>0.005881</td>\n",
       "    </tr>\n",
       "    <tr>\n",
       "      <th>JPYEUR=X</th>\n",
       "      <td>0.006160</td>\n",
       "    </tr>\n",
       "    <tr>\n",
       "      <th>JPYUSD=X</th>\n",
       "      <td>0.006670</td>\n",
       "    </tr>\n",
       "    <tr>\n",
       "      <th>USDCHF=X</th>\n",
       "      <td>0.881740</td>\n",
       "    </tr>\n",
       "    <tr>\n",
       "      <th>USDEUR=X</th>\n",
       "      <td>0.923400</td>\n",
       "    </tr>\n",
       "    <tr>\n",
       "      <th>USDJPY=X</th>\n",
       "      <td>149.923996</td>\n",
       "    </tr>\n",
       "  </tbody>\n",
       "</table>\n",
       "</div>"
      ],
      "text/plain": [
       "          2025-03-28 18:48:00+00:00\n",
       "Ticker                             \n",
       "CHFEUR=X                   1.047100\n",
       "CHFJPY=X                 170.022003\n",
       "CHFUSD=X                   1.134121\n",
       "EURCHF=X                   0.954540\n",
       "EURJPY=X                 162.302002\n",
       "EURUSD=X                   1.082954\n",
       "JPYCHF=X                   0.005881\n",
       "JPYEUR=X                   0.006160\n",
       "JPYUSD=X                   0.006670\n",
       "USDCHF=X                   0.881740\n",
       "USDEUR=X                   0.923400\n",
       "USDJPY=X                 149.923996"
      ]
     },
     "execution_count": 1,
     "metadata": {},
     "output_type": "execute_result"
    }
   ],
   "source": [
    "import pandas as pd \n",
    "\n",
    "series = pd.read_csv(\"data/dataloader/prices_series.csv\", index_col=0, header=0)\n",
    "series"
   ]
  },
  {
   "cell_type": "code",
   "execution_count": null,
   "metadata": {},
   "outputs": [
    {
     "name": "stderr",
     "output_type": "stream",
     "text": [
      "/var/folders/g5/7jz6q13d1lvdvrgms18qwq780000gn/T/ipykernel_7678/3809714411.py:6: FutureWarning:\n",
      "\n",
      "Series.__getitem__ treating keys as positions is deprecated. In a future version, integer keys will always be treated as labels (consistent with DataFrame behavior). To access a value by position, use `ser.iloc[pos]`\n",
      "\n",
      "/var/folders/g5/7jz6q13d1lvdvrgms18qwq780000gn/T/ipykernel_7678/3809714411.py:9: FutureWarning:\n",
      "\n",
      "Series.__getitem__ treating keys as positions is deprecated. In a future version, integer keys will always be treated as labels (consistent with DataFrame behavior). To access a value by position, use `ser.iloc[pos]`\n",
      "\n"
     ]
    }
   ],
   "source": [
    "import json \n",
    "\n",
    "pairs = series.index\n",
    "list_currency = set([ticker[:3] for ticker in pairs.tolist()])\n",
    "\n",
    "nodes = [{\"data\": {\"id\":ticker, \n",
    "                   \"label\": \"CURRENCY\",\n",
    "                   \"name\": ticker}}  for ticker in list_currency]\n",
    "edges = [{\"data\": {\"id\":pair,\n",
    "                   \"label\": \"PAIR_DIRECT\" if series.loc[pair][0] > 1 else \"PAIR_INVERSE\",\n",
    "                   \"source\": pair[:3],\n",
    "                   \"target\": pair[3:6], \n",
    "                   \"rate\":series.loc[pair][0]}} for pair in pairs]\n",
    "with open(\"data/dataloader/graph.json\", \"w\") as f:\n",
    "    json.dump({\"nodes\": nodes, \"edges\": edges}, f, indent=4)"
   ]
  },
  {
   "cell_type": "code",
   "execution_count": 69,
   "metadata": {},
   "outputs": [
    {
     "name": "stdout",
     "output_type": "stream",
     "text": [
      "3.12\n"
     ]
    }
   ],
   "source": [
    "a = 3.123\n",
    "print(f\"{a:.2f}\")"
   ]
  },
  {
   "cell_type": "code",
   "execution_count": 71,
   "metadata": {},
   "outputs": [
    {
     "data": {
      "text/plain": [
       "'CHFEUR=X'"
      ]
     },
     "execution_count": 71,
     "metadata": {},
     "output_type": "execute_result"
    }
   ],
   "source": [
    "series.index[0]"
   ]
  },
  {
   "cell_type": "code",
   "execution_count": 72,
   "metadata": {},
   "outputs": [
    {
     "data": {
      "application/vnd.microsoft.datawrangler.viewer.v0+json": {
       "columns": [
        {
         "name": "Datetime",
         "rawType": "object",
         "type": "string"
        },
        {
         "name": "CHFEUR=X",
         "rawType": "float64",
         "type": "float"
        },
        {
         "name": "CHFJPY=X",
         "rawType": "float64",
         "type": "float"
        },
        {
         "name": "CHFUSD=X",
         "rawType": "float64",
         "type": "float"
        },
        {
         "name": "EURCHF=X",
         "rawType": "float64",
         "type": "float"
        },
        {
         "name": "EURJPY=X",
         "rawType": "float64",
         "type": "float"
        },
        {
         "name": "EURUSD=X",
         "rawType": "float64",
         "type": "float"
        },
        {
         "name": "JPYCHF=X",
         "rawType": "float64",
         "type": "float"
        },
        {
         "name": "JPYEUR=X",
         "rawType": "float64",
         "type": "float"
        },
        {
         "name": "JPYUSD=X",
         "rawType": "float64",
         "type": "float"
        },
        {
         "name": "USDCHF=X",
         "rawType": "float64",
         "type": "float"
        },
        {
         "name": "USDEUR=X",
         "rawType": "float64",
         "type": "float"
        },
        {
         "name": "USDJPY=X",
         "rawType": "float64",
         "type": "float"
        }
       ],
       "conversionMethod": "pd.DataFrame",
       "ref": "30125da1-d4b9-4d53-aaaf-0f47f87846c6",
       "rows": [
        [
         "2025-03-28 00:00:00+00:00",
         "1.0497000217437744",
         "171.0780029296875",
         "1.1341469287872314",
         "0.95209002494812",
         "162.89700317382812",
         "1.080263614654541",
         "0.0058430000208318",
         "0.0061369002796709",
         "0.0066286185756325",
         "0.8817200064659119",
         "0.9257000088691713",
         "150.86099243164062"
        ],
        [
         "2025-03-28 00:06:00+00:00",
         "1.0499000549316406",
         "171.08399963378906",
         "1.1340440511703491",
         "0.951990008354187",
         "162.88699340820312",
         "1.0800302028656006",
         "0.0058450000360608",
         "0.0061391997151076",
         "0.0066277836449444",
         "0.8817999958992004",
         "0.9258999824523926",
         "150.8800048828125"
        ],
        [
         "2025-03-28 00:12:00+00:00",
         "1.0498000383377075",
         "171.11900329589844",
         "1.1339154243469238",
         "0.951990008354187",
         "162.9250030517578",
         "1.0797970294952393",
         "0.0058430000208318",
         "0.0061371000483632",
         "0.0066257640719413",
         "0.8819000124931335",
         "0.9261000156402588",
         "150.92599487304688"
        ],
        [
         "2025-03-28 00:18:00+00:00",
         "1.0499000549316406",
         "171.2760009765625",
         "1.1336840391159058",
         "0.9519799947738647",
         "163.072998046875",
         "1.079563856124878",
         "0.00583800021559",
         "0.0061324001289904",
         "0.0066182650625705",
         "0.8820800185203552",
         "0.9262999892234802",
         "151.0970001220703"
        ],
        [
         "2025-03-28 00:24:00+00:00",
         "1.0498000383377075",
         "171.22900390625",
         "1.1337867975234983",
         "0.95209002494812",
         "163.04600524902344",
         "1.0796804428100586",
         "0.0058389995247125",
         "0.0061331000179052",
         "0.006620938424021",
         "0.8820000290870667",
         "0.9261999726295472",
         "151.03599548339844"
        ],
        [
         "2025-03-28 00:30:00+00:00",
         "1.0498000383377075",
         "171.23199462890625",
         "1.1336325407028198",
         "0.9520999789237976",
         "163.03900146484375",
         "1.0797970294952393",
         "0.0058399997651577",
         "0.0061331000179052",
         "0.0066199298016726",
         "0.8821200132369995",
         "0.9261000156402588",
         "151.0590057373047"
        ],
        [
         "2025-03-28 00:36:00+00:00",
         "1.0497000217437744",
         "171.33200073242188",
         "1.1333885192871094",
         "0.9521600008010864",
         "163.1510009765625",
         "1.0794472694396973",
         "0.0058350004255771",
         "0.0061282003298401",
         "0.0066142380237579",
         "0.8823099732398987",
         "0.9264000058174132",
         "151.18899536132812"
        ],
        [
         "2025-03-28 00:42:00+00:00",
         "1.0498000383377075",
         "171.28199768066406",
         "1.1332343816757202",
         "0.9520099759101868",
         "163.08399963378906",
         "1.079214334487915",
         "0.0058369999751448",
         "0.006131200119853",
         "0.0066155064851045",
         "0.8824300169944763",
         "0.9265999794006348",
         "151.16000366210938"
        ],
        [
         "2025-03-28 00:48:00+00:00",
         "1.0497000217437744",
         "171.28500366210938",
         "1.13331139087677",
         "0.952120006084442",
         "163.10299682617188",
         "1.079214334487915",
         "0.0058369999751448",
         "0.0061302999965846",
         "0.0066156382672488",
         "0.8823699951171875",
         "0.9265999794006348",
         "151.15699768066406"
        ],
        [
         "2025-03-28 00:54:00+00:00",
         "1.0496000051498413",
         "171.18099975585938",
         "1.1335169076919556",
         "0.9521700143814088",
         "163.03500366210938",
         "1.079563856124878",
         "0.0058359997346997",
         "0.0061280000954866",
         "0.006620411761105",
         "0.8822100162506104",
         "0.9262999892234802",
         "151.04800415039062"
        ]
       ],
       "shape": {
        "columns": 12,
        "rows": 10
       }
      },
      "text/html": [
       "<div>\n",
       "<style scoped>\n",
       "    .dataframe tbody tr th:only-of-type {\n",
       "        vertical-align: middle;\n",
       "    }\n",
       "\n",
       "    .dataframe tbody tr th {\n",
       "        vertical-align: top;\n",
       "    }\n",
       "\n",
       "    .dataframe thead th {\n",
       "        text-align: right;\n",
       "    }\n",
       "</style>\n",
       "<table border=\"1\" class=\"dataframe\">\n",
       "  <thead>\n",
       "    <tr style=\"text-align: right;\">\n",
       "      <th></th>\n",
       "      <th>CHFEUR=X</th>\n",
       "      <th>CHFJPY=X</th>\n",
       "      <th>CHFUSD=X</th>\n",
       "      <th>EURCHF=X</th>\n",
       "      <th>EURJPY=X</th>\n",
       "      <th>EURUSD=X</th>\n",
       "      <th>JPYCHF=X</th>\n",
       "      <th>JPYEUR=X</th>\n",
       "      <th>JPYUSD=X</th>\n",
       "      <th>USDCHF=X</th>\n",
       "      <th>USDEUR=X</th>\n",
       "      <th>USDJPY=X</th>\n",
       "    </tr>\n",
       "    <tr>\n",
       "      <th>Datetime</th>\n",
       "      <th></th>\n",
       "      <th></th>\n",
       "      <th></th>\n",
       "      <th></th>\n",
       "      <th></th>\n",
       "      <th></th>\n",
       "      <th></th>\n",
       "      <th></th>\n",
       "      <th></th>\n",
       "      <th></th>\n",
       "      <th></th>\n",
       "      <th></th>\n",
       "    </tr>\n",
       "  </thead>\n",
       "  <tbody>\n",
       "    <tr>\n",
       "      <th>2025-03-28 00:00:00+00:00</th>\n",
       "      <td>1.0497</td>\n",
       "      <td>171.078003</td>\n",
       "      <td>1.134147</td>\n",
       "      <td>0.95209</td>\n",
       "      <td>162.897003</td>\n",
       "      <td>1.080264</td>\n",
       "      <td>0.005843</td>\n",
       "      <td>0.006137</td>\n",
       "      <td>0.006629</td>\n",
       "      <td>0.88172</td>\n",
       "      <td>0.9257</td>\n",
       "      <td>150.860992</td>\n",
       "    </tr>\n",
       "    <tr>\n",
       "      <th>2025-03-28 00:06:00+00:00</th>\n",
       "      <td>1.0499</td>\n",
       "      <td>171.084000</td>\n",
       "      <td>1.134044</td>\n",
       "      <td>0.95199</td>\n",
       "      <td>162.886993</td>\n",
       "      <td>1.080030</td>\n",
       "      <td>0.005845</td>\n",
       "      <td>0.006139</td>\n",
       "      <td>0.006628</td>\n",
       "      <td>0.88180</td>\n",
       "      <td>0.9259</td>\n",
       "      <td>150.880005</td>\n",
       "    </tr>\n",
       "    <tr>\n",
       "      <th>2025-03-28 00:12:00+00:00</th>\n",
       "      <td>1.0498</td>\n",
       "      <td>171.119003</td>\n",
       "      <td>1.133915</td>\n",
       "      <td>0.95199</td>\n",
       "      <td>162.925003</td>\n",
       "      <td>1.079797</td>\n",
       "      <td>0.005843</td>\n",
       "      <td>0.006137</td>\n",
       "      <td>0.006626</td>\n",
       "      <td>0.88190</td>\n",
       "      <td>0.9261</td>\n",
       "      <td>150.925995</td>\n",
       "    </tr>\n",
       "    <tr>\n",
       "      <th>2025-03-28 00:18:00+00:00</th>\n",
       "      <td>1.0499</td>\n",
       "      <td>171.276001</td>\n",
       "      <td>1.133684</td>\n",
       "      <td>0.95198</td>\n",
       "      <td>163.072998</td>\n",
       "      <td>1.079564</td>\n",
       "      <td>0.005838</td>\n",
       "      <td>0.006132</td>\n",
       "      <td>0.006618</td>\n",
       "      <td>0.88208</td>\n",
       "      <td>0.9263</td>\n",
       "      <td>151.097000</td>\n",
       "    </tr>\n",
       "    <tr>\n",
       "      <th>2025-03-28 00:24:00+00:00</th>\n",
       "      <td>1.0498</td>\n",
       "      <td>171.229004</td>\n",
       "      <td>1.133787</td>\n",
       "      <td>0.95209</td>\n",
       "      <td>163.046005</td>\n",
       "      <td>1.079680</td>\n",
       "      <td>0.005839</td>\n",
       "      <td>0.006133</td>\n",
       "      <td>0.006621</td>\n",
       "      <td>0.88200</td>\n",
       "      <td>0.9262</td>\n",
       "      <td>151.035995</td>\n",
       "    </tr>\n",
       "    <tr>\n",
       "      <th>2025-03-28 00:30:00+00:00</th>\n",
       "      <td>1.0498</td>\n",
       "      <td>171.231995</td>\n",
       "      <td>1.133633</td>\n",
       "      <td>0.95210</td>\n",
       "      <td>163.039001</td>\n",
       "      <td>1.079797</td>\n",
       "      <td>0.005840</td>\n",
       "      <td>0.006133</td>\n",
       "      <td>0.006620</td>\n",
       "      <td>0.88212</td>\n",
       "      <td>0.9261</td>\n",
       "      <td>151.059006</td>\n",
       "    </tr>\n",
       "    <tr>\n",
       "      <th>2025-03-28 00:36:00+00:00</th>\n",
       "      <td>1.0497</td>\n",
       "      <td>171.332001</td>\n",
       "      <td>1.133389</td>\n",
       "      <td>0.95216</td>\n",
       "      <td>163.151001</td>\n",
       "      <td>1.079447</td>\n",
       "      <td>0.005835</td>\n",
       "      <td>0.006128</td>\n",
       "      <td>0.006614</td>\n",
       "      <td>0.88231</td>\n",
       "      <td>0.9264</td>\n",
       "      <td>151.188995</td>\n",
       "    </tr>\n",
       "    <tr>\n",
       "      <th>2025-03-28 00:42:00+00:00</th>\n",
       "      <td>1.0498</td>\n",
       "      <td>171.281998</td>\n",
       "      <td>1.133234</td>\n",
       "      <td>0.95201</td>\n",
       "      <td>163.084000</td>\n",
       "      <td>1.079214</td>\n",
       "      <td>0.005837</td>\n",
       "      <td>0.006131</td>\n",
       "      <td>0.006616</td>\n",
       "      <td>0.88243</td>\n",
       "      <td>0.9266</td>\n",
       "      <td>151.160004</td>\n",
       "    </tr>\n",
       "    <tr>\n",
       "      <th>2025-03-28 00:48:00+00:00</th>\n",
       "      <td>1.0497</td>\n",
       "      <td>171.285004</td>\n",
       "      <td>1.133311</td>\n",
       "      <td>0.95212</td>\n",
       "      <td>163.102997</td>\n",
       "      <td>1.079214</td>\n",
       "      <td>0.005837</td>\n",
       "      <td>0.006130</td>\n",
       "      <td>0.006616</td>\n",
       "      <td>0.88237</td>\n",
       "      <td>0.9266</td>\n",
       "      <td>151.156998</td>\n",
       "    </tr>\n",
       "    <tr>\n",
       "      <th>2025-03-28 00:54:00+00:00</th>\n",
       "      <td>1.0496</td>\n",
       "      <td>171.181000</td>\n",
       "      <td>1.133517</td>\n",
       "      <td>0.95217</td>\n",
       "      <td>163.035004</td>\n",
       "      <td>1.079564</td>\n",
       "      <td>0.005836</td>\n",
       "      <td>0.006128</td>\n",
       "      <td>0.006620</td>\n",
       "      <td>0.88221</td>\n",
       "      <td>0.9263</td>\n",
       "      <td>151.048004</td>\n",
       "    </tr>\n",
       "  </tbody>\n",
       "</table>\n",
       "</div>"
      ],
      "text/plain": [
       "                           CHFEUR=X    CHFJPY=X  CHFUSD=X  EURCHF=X  \\\n",
       "Datetime                                                              \n",
       "2025-03-28 00:00:00+00:00    1.0497  171.078003  1.134147   0.95209   \n",
       "2025-03-28 00:06:00+00:00    1.0499  171.084000  1.134044   0.95199   \n",
       "2025-03-28 00:12:00+00:00    1.0498  171.119003  1.133915   0.95199   \n",
       "2025-03-28 00:18:00+00:00    1.0499  171.276001  1.133684   0.95198   \n",
       "2025-03-28 00:24:00+00:00    1.0498  171.229004  1.133787   0.95209   \n",
       "2025-03-28 00:30:00+00:00    1.0498  171.231995  1.133633   0.95210   \n",
       "2025-03-28 00:36:00+00:00    1.0497  171.332001  1.133389   0.95216   \n",
       "2025-03-28 00:42:00+00:00    1.0498  171.281998  1.133234   0.95201   \n",
       "2025-03-28 00:48:00+00:00    1.0497  171.285004  1.133311   0.95212   \n",
       "2025-03-28 00:54:00+00:00    1.0496  171.181000  1.133517   0.95217   \n",
       "\n",
       "                             EURJPY=X  EURUSD=X  JPYCHF=X  JPYEUR=X  JPYUSD=X  \\\n",
       "Datetime                                                                        \n",
       "2025-03-28 00:00:00+00:00  162.897003  1.080264  0.005843  0.006137  0.006629   \n",
       "2025-03-28 00:06:00+00:00  162.886993  1.080030  0.005845  0.006139  0.006628   \n",
       "2025-03-28 00:12:00+00:00  162.925003  1.079797  0.005843  0.006137  0.006626   \n",
       "2025-03-28 00:18:00+00:00  163.072998  1.079564  0.005838  0.006132  0.006618   \n",
       "2025-03-28 00:24:00+00:00  163.046005  1.079680  0.005839  0.006133  0.006621   \n",
       "2025-03-28 00:30:00+00:00  163.039001  1.079797  0.005840  0.006133  0.006620   \n",
       "2025-03-28 00:36:00+00:00  163.151001  1.079447  0.005835  0.006128  0.006614   \n",
       "2025-03-28 00:42:00+00:00  163.084000  1.079214  0.005837  0.006131  0.006616   \n",
       "2025-03-28 00:48:00+00:00  163.102997  1.079214  0.005837  0.006130  0.006616   \n",
       "2025-03-28 00:54:00+00:00  163.035004  1.079564  0.005836  0.006128  0.006620   \n",
       "\n",
       "                           USDCHF=X  USDEUR=X    USDJPY=X  \n",
       "Datetime                                                   \n",
       "2025-03-28 00:00:00+00:00   0.88172    0.9257  150.860992  \n",
       "2025-03-28 00:06:00+00:00   0.88180    0.9259  150.880005  \n",
       "2025-03-28 00:12:00+00:00   0.88190    0.9261  150.925995  \n",
       "2025-03-28 00:18:00+00:00   0.88208    0.9263  151.097000  \n",
       "2025-03-28 00:24:00+00:00   0.88200    0.9262  151.035995  \n",
       "2025-03-28 00:30:00+00:00   0.88212    0.9261  151.059006  \n",
       "2025-03-28 00:36:00+00:00   0.88231    0.9264  151.188995  \n",
       "2025-03-28 00:42:00+00:00   0.88243    0.9266  151.160004  \n",
       "2025-03-28 00:48:00+00:00   0.88237    0.9266  151.156998  \n",
       "2025-03-28 00:54:00+00:00   0.88221    0.9263  151.048004  "
      ]
     },
     "execution_count": 72,
     "metadata": {},
     "output_type": "execute_result"
    }
   ],
   "source": [
    "df = pd.read_csv(\"data/dataloader/prices_temporal.csv\", index_col=0, header=0)\n",
    "df"
   ]
  },
  {
   "cell_type": "code",
   "execution_count": 75,
   "metadata": {},
   "outputs": [
    {
     "data": {
      "text/plain": [
       "Index(['2025-03-28 00:00:00+00:00', '2025-03-28 00:06:00+00:00',\n",
       "       '2025-03-28 00:12:00+00:00', '2025-03-28 00:18:00+00:00',\n",
       "       '2025-03-28 00:24:00+00:00', '2025-03-28 00:30:00+00:00',\n",
       "       '2025-03-28 00:36:00+00:00', '2025-03-28 00:42:00+00:00',\n",
       "       '2025-03-28 00:48:00+00:00', '2025-03-28 00:54:00+00:00'],\n",
       "      dtype='object', name='Datetime')"
      ]
     },
     "execution_count": 75,
     "metadata": {},
     "output_type": "execute_result"
    }
   ],
   "source": [
    "df.index"
   ]
  },
  {
   "cell_type": "code",
   "execution_count": null,
   "metadata": {},
   "outputs": [],
   "source": []
  }
 ],
 "metadata": {
  "kernelspec": {
   "display_name": ".venv",
   "language": "python",
   "name": "python3"
  },
  "language_info": {
   "codemirror_mode": {
    "name": "ipython",
    "version": 3
   },
   "file_extension": ".py",
   "mimetype": "text/x-python",
   "name": "python",
   "nbconvert_exporter": "python",
   "pygments_lexer": "ipython3",
   "version": "3.9.6"
  }
 },
 "nbformat": 4,
 "nbformat_minor": 2
}
